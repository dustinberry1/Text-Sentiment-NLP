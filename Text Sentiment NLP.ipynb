{
 "cells": [
  {
   "cell_type": "markdown",
   "id": "aa099ed3",
   "metadata": {},
   "source": [
    "## Predicting Text Sentiment Using Natural Language Processing"
   ]
  },
  {
   "cell_type": "markdown",
   "id": "81d3fb98",
   "metadata": {},
   "source": [
    "### Load the dataset into memory."
   ]
  },
  {
   "cell_type": "code",
   "execution_count": 3,
   "id": "2cb7b369",
   "metadata": {},
   "outputs": [
    {
     "data": {
      "text/html": [
       "<div>\n",
       "<style scoped>\n",
       "    .dataframe tbody tr th:only-of-type {\n",
       "        vertical-align: middle;\n",
       "    }\n",
       "\n",
       "    .dataframe tbody tr th {\n",
       "        vertical-align: top;\n",
       "    }\n",
       "\n",
       "    .dataframe thead th {\n",
       "        text-align: right;\n",
       "    }\n",
       "</style>\n",
       "<table border=\"1\" class=\"dataframe\">\n",
       "  <thead>\n",
       "    <tr style=\"text-align: right;\">\n",
       "      <th></th>\n",
       "      <th>0</th>\n",
       "      <th>1</th>\n",
       "      <th>2</th>\n",
       "      <th>3</th>\n",
       "      <th>4</th>\n",
       "      <th>5</th>\n",
       "    </tr>\n",
       "  </thead>\n",
       "  <tbody>\n",
       "    <tr>\n",
       "      <th>0</th>\n",
       "      <td>0</td>\n",
       "      <td>1467810369</td>\n",
       "      <td>Mon Apr 06 22:19:45 PDT 2009</td>\n",
       "      <td>NO_QUERY</td>\n",
       "      <td>_TheSpecialOne_</td>\n",
       "      <td>@switchfoot http://twitpic.com/2y1zl - Awww, t...</td>\n",
       "    </tr>\n",
       "    <tr>\n",
       "      <th>1</th>\n",
       "      <td>0</td>\n",
       "      <td>1467810672</td>\n",
       "      <td>Mon Apr 06 22:19:49 PDT 2009</td>\n",
       "      <td>NO_QUERY</td>\n",
       "      <td>scotthamilton</td>\n",
       "      <td>is upset that he can't update his Facebook by ...</td>\n",
       "    </tr>\n",
       "    <tr>\n",
       "      <th>2</th>\n",
       "      <td>0</td>\n",
       "      <td>1467810917</td>\n",
       "      <td>Mon Apr 06 22:19:53 PDT 2009</td>\n",
       "      <td>NO_QUERY</td>\n",
       "      <td>mattycus</td>\n",
       "      <td>@Kenichan I dived many times for the ball. Man...</td>\n",
       "    </tr>\n",
       "    <tr>\n",
       "      <th>3</th>\n",
       "      <td>0</td>\n",
       "      <td>1467811184</td>\n",
       "      <td>Mon Apr 06 22:19:57 PDT 2009</td>\n",
       "      <td>NO_QUERY</td>\n",
       "      <td>ElleCTF</td>\n",
       "      <td>my whole body feels itchy and like its on fire</td>\n",
       "    </tr>\n",
       "    <tr>\n",
       "      <th>4</th>\n",
       "      <td>0</td>\n",
       "      <td>1467811193</td>\n",
       "      <td>Mon Apr 06 22:19:57 PDT 2009</td>\n",
       "      <td>NO_QUERY</td>\n",
       "      <td>Karoli</td>\n",
       "      <td>@nationwideclass no, it's not behaving at all....</td>\n",
       "    </tr>\n",
       "  </tbody>\n",
       "</table>\n",
       "</div>"
      ],
      "text/plain": [
       "   0           1                             2         3                4  \\\n",
       "0  0  1467810369  Mon Apr 06 22:19:45 PDT 2009  NO_QUERY  _TheSpecialOne_   \n",
       "1  0  1467810672  Mon Apr 06 22:19:49 PDT 2009  NO_QUERY    scotthamilton   \n",
       "2  0  1467810917  Mon Apr 06 22:19:53 PDT 2009  NO_QUERY         mattycus   \n",
       "3  0  1467811184  Mon Apr 06 22:19:57 PDT 2009  NO_QUERY          ElleCTF   \n",
       "4  0  1467811193  Mon Apr 06 22:19:57 PDT 2009  NO_QUERY           Karoli   \n",
       "\n",
       "                                                   5  \n",
       "0  @switchfoot http://twitpic.com/2y1zl - Awww, t...  \n",
       "1  is upset that he can't update his Facebook by ...  \n",
       "2  @Kenichan I dived many times for the ball. Man...  \n",
       "3    my whole body feels itchy and like its on fire   \n",
       "4  @nationwideclass no, it's not behaving at all....  "
      ]
     },
     "execution_count": 3,
     "metadata": {},
     "output_type": "execute_result"
    }
   ],
   "source": [
    "import pandas as pd\n",
    "import numpy as np\n",
    "import re\n",
    "import string\n",
    "import spacy\n",
    "import matplotlib.pyplot as plt\n",
    "import seaborn as sns\n",
    "import warnings\n",
    "warnings.filterwarnings('ignore')\n",
    "\n",
    "from spacy.lang.en import English\n",
    "from spacy.lang.en.stop_words import STOP_WORDS\n",
    "\n",
    "from sklearn import svm\n",
    "from sklearn import preprocessing\n",
    "from sklearn.base import TransformerMixin\n",
    "from sklearn.tree import DecisionTreeClassifier\n",
    "from sklearn.base import BaseEstimator\n",
    "from sklearn.metrics import confusion_matrix\n",
    "from sklearn.metrics import plot_confusion_matrix\n",
    "from sklearn.metrics import classification_report\n",
    "from sklearn.pipeline import Pipeline\n",
    "from sklearn.ensemble import RandomForestClassifier\n",
    "from sklearn.naive_bayes import MultinomialNB\n",
    "from sklearn.linear_model import SGDClassifier\n",
    "from sklearn.linear_model import LogisticRegression\n",
    "from sklearn.model_selection import GridSearchCV\n",
    "from sklearn.model_selection import train_test_split\n",
    "from sklearn.feature_extraction.text import TfidfVectorizer\n",
    "\n",
    "from time import time\n",
    "from pprint import pprint\n",
    "\n",
    "\n",
    "sentiment = pd.read_csv('C:\\\\Users\\\\dusti\\\\Documents\\\\Maryville\\\\Text Mining\\\\sentiment140.csv', encoding='latin1', header=None)\n",
    "sentiment.head(5)"
   ]
  },
  {
   "cell_type": "markdown",
   "id": "6777fa78",
   "metadata": {},
   "source": [
    "### Clean and preprocess the texts."
   ]
  },
  {
   "cell_type": "code",
   "execution_count": 2,
   "id": "a9b986a0",
   "metadata": {},
   "outputs": [
    {
     "data": {
      "text/html": [
       "<div>\n",
       "<style scoped>\n",
       "    .dataframe tbody tr th:only-of-type {\n",
       "        vertical-align: middle;\n",
       "    }\n",
       "\n",
       "    .dataframe tbody tr th {\n",
       "        vertical-align: top;\n",
       "    }\n",
       "\n",
       "    .dataframe thead th {\n",
       "        text-align: right;\n",
       "    }\n",
       "</style>\n",
       "<table border=\"1\" class=\"dataframe\">\n",
       "  <thead>\n",
       "    <tr style=\"text-align: right;\">\n",
       "      <th></th>\n",
       "      <th>polarity</th>\n",
       "      <th>text</th>\n",
       "    </tr>\n",
       "  </thead>\n",
       "  <tbody>\n",
       "    <tr>\n",
       "      <th>0</th>\n",
       "      <td>0</td>\n",
       "      <td>@switchfoot http://twitpic.com/2y1zl - Awww, t...</td>\n",
       "    </tr>\n",
       "    <tr>\n",
       "      <th>1</th>\n",
       "      <td>0</td>\n",
       "      <td>is upset that he can't update his Facebook by ...</td>\n",
       "    </tr>\n",
       "    <tr>\n",
       "      <th>2</th>\n",
       "      <td>0</td>\n",
       "      <td>@Kenichan I dived many times for the ball. Man...</td>\n",
       "    </tr>\n",
       "    <tr>\n",
       "      <th>3</th>\n",
       "      <td>0</td>\n",
       "      <td>my whole body feels itchy and like its on fire</td>\n",
       "    </tr>\n",
       "    <tr>\n",
       "      <th>4</th>\n",
       "      <td>0</td>\n",
       "      <td>@nationwideclass no, it's not behaving at all....</td>\n",
       "    </tr>\n",
       "  </tbody>\n",
       "</table>\n",
       "</div>"
      ],
      "text/plain": [
       "   polarity                                               text\n",
       "0         0  @switchfoot http://twitpic.com/2y1zl - Awww, t...\n",
       "1         0  is upset that he can't update his Facebook by ...\n",
       "2         0  @Kenichan I dived many times for the ball. Man...\n",
       "3         0    my whole body feels itchy and like its on fire \n",
       "4         0  @nationwideclass no, it's not behaving at all...."
      ]
     },
     "execution_count": 2,
     "metadata": {},
     "output_type": "execute_result"
    }
   ],
   "source": [
    "#reduce down to only the polarity and the text of the tweet\n",
    "sentiment = sentiment[[0,5]]\n",
    "sentiment = sentiment.rename(columns = {0:'polarity', 5:'text'}, inplace=False)\n",
    "\n",
    "sentiment.head(5)"
   ]
  },
  {
   "cell_type": "code",
   "execution_count": 3,
   "id": "8d578a0f",
   "metadata": {},
   "outputs": [
    {
     "data": {
      "text/plain": [
       "polarity    0.0\n",
       "text        0.0\n",
       "dtype: float64"
      ]
     },
     "execution_count": 3,
     "metadata": {},
     "output_type": "execute_result"
    }
   ],
   "source": [
    "#check for missing data\n",
    "percent_missing = sentiment.isnull().sum() * 100 / len(sentiment)\n",
    "percent_missing"
   ]
  },
  {
   "cell_type": "code",
   "execution_count": 4,
   "id": "925e4bec",
   "metadata": {},
   "outputs": [
    {
     "data": {
      "text/plain": [
       "0    0.5\n",
       "4    0.5\n",
       "Name: polarity, dtype: float64"
      ]
     },
     "execution_count": 4,
     "metadata": {},
     "output_type": "execute_result"
    }
   ],
   "source": [
    "#check the percentage of the sentiment\n",
    "sentiment['polarity'].value_counts(normalize= True)"
   ]
  },
  {
   "cell_type": "code",
   "execution_count": 5,
   "id": "aa85059d",
   "metadata": {},
   "outputs": [
    {
     "data": {
      "text/plain": [
       "<AxesSubplot:>"
      ]
     },
     "execution_count": 5,
     "metadata": {},
     "output_type": "execute_result"
    },
    {
     "data": {
      "image/png": "[encoded data removed]",
      "text/plain": [
       "<Figure size 432x288 with 1 Axes>"
      ]
     },
     "metadata": {
      "needs_background": "light"
     },
     "output_type": "display_data"
    }
   ],
   "source": [
    "#build a graph showing the percentages of polarity\n",
    "sentiment.polarity.value_counts().sort_values().plot(kind = 'bar')"
   ]
  },
  {
   "cell_type": "code",
   "execution_count": 6,
   "id": "6d38bbf2",
   "metadata": {},
   "outputs": [],
   "source": [
    "nlp = spacy.load(\"en_core_web_sm\")\n",
    "stop_words = spacy.lang.en.stop_words.STOP_WORDS\n",
    "\n",
    "#tokenizer function\n",
    "def spacy_tokenizer(sentence):\n",
    "    mytokens = nlp(sentence)\n",
    "    mytokens = [word.lemma_ for word in mytokens if word not in stop_words] #remove stopwords\n",
    "    return mytokens   "
   ]
  },
  {
   "cell_type": "code",
   "execution_count": 7,
   "id": "b775d3a8",
   "metadata": {},
   "outputs": [],
   "source": [
    "#transformer class generation\n",
    "class features(TransformerMixin):\n",
    "    def transform(self, X, **transform_params):\n",
    "        return [clean_text(text) for text in X]\n",
    "    \n",
    "    def fit(self, X, y= None, **fit_params):\n",
    "        return self\n",
    "    \n",
    "    def get_params(self, deep= True):\n",
    "        return {}\n",
    "\n",
    "#function to clean text\n",
    "def clean_text(text):\n",
    "    text = ' '.join(re.sub(\"(nan)|(@[A-Za-z0-9]+)|([^0-9A-Za-z \\t])|(\\w+:\\/\\/\\S+)\",\" \",text).split())\n",
    "    return text.strip().lower() #remove leading/trailing spaces and convert to lowercase"
   ]
  },
  {
   "cell_type": "code",
   "execution_count": 8,
   "id": "89be6585",
   "metadata": {},
   "outputs": [
    {
     "data": {
      "text/plain": [
       "0    0.5\n",
       "1    0.5\n",
       "Name: polarity, dtype: float64"
      ]
     },
     "execution_count": 8,
     "metadata": {},
     "output_type": "execute_result"
    }
   ],
   "source": [
    "le = preprocessing.LabelEncoder()\n",
    "\n",
    "sentiment['polarity']=le.fit_transform(sentiment['polarity'])\n",
    "sentiment['polarity'].value_counts(normalize=True)"
   ]
  },
  {
   "cell_type": "code",
   "execution_count": 9,
   "id": "63ba30c1",
   "metadata": {},
   "outputs": [
    {
     "name": "stdout",
     "output_type": "stream",
     "text": [
      "X_train dimension: (1280,); y_train dimension: (1280,)\n",
      "X_test dimension: (320,); y_train dimension: (320,)\n"
     ]
    },
    {
     "data": {
      "text/plain": [
       "0    0.5\n",
       "1    0.5\n",
       "Name: polarity, dtype: float64"
      ]
     },
     "execution_count": 9,
     "metadata": {},
     "output_type": "execute_result"
    }
   ],
   "source": [
    "X = sentiment['text']\n",
    "y = sentiment['polarity']\n",
    "\n",
    "#reduce the dataset for manageable times\n",
    "X_newWhole, X_test, y_newWhole, y_test = train_test_split(X, y, stratify=y, test_size=0.999)\n",
    "#split the dataset\n",
    "X_train, X_test,y_train, y_test = train_test_split(X_newWhole, y_newWhole, stratify=y_newWhole, test_size=0.2)\n",
    "\n",
    "print(f'X_train dimension: {X_train.shape}; y_train dimension: {y_train.shape}')\n",
    "print(f'X_test dimension: {X_test.shape}; y_train dimension: {y_test.shape}')\n",
    "\n",
    "sentiment['polarity'].value_counts(normalize=True) #check the distribution of the data after splitting"
   ]
  },
  {
   "cell_type": "markdown",
   "id": "9a07a120",
   "metadata": {},
   "source": [
    "### Build the first model based on pipeline using the support vector machines."
   ]
  },
  {
   "cell_type": "code",
   "execution_count": 10,
   "id": "9e247501",
   "metadata": {},
   "outputs": [
    {
     "name": "stdout",
     "output_type": "stream",
     "text": [
      "It takes about 10.8 seconds\n"
     ]
    }
   ],
   "source": [
    "t0 = time()\n",
    "\n",
    "tfidf_vector = TfidfVectorizer(tokenizer = spacy_tokenizer, ngram_range = (1,1))\n",
    "\n",
    "#SVM classifier\n",
    "classifier = svm.SVC(kernel='linear', random_state=1)\n",
    "\n",
    "#create pipeline\n",
    "pipeline = Pipeline ([(\"cleaner\", features()),\n",
    "                 (\"vectorizer\", tfidf_vector),\n",
    "                 (\"classifier\", classifier)])\n",
    "\n",
    "#fit the model\n",
    "pipeline.fit(X_train, y_train)\n",
    "\n",
    "print(f\"It takes about {time() - t0:.1f} seconds\")"
   ]
  },
  {
   "cell_type": "markdown",
   "id": "deb860f4",
   "metadata": {},
   "source": [
    "### Check the first model.  Based on the precision, recall, and f1-score this model is fairly good.  Given this is a balanced dataset, the accuracy would be the best estimator.  At 72% it shows that this model performs adequately for the given problem.  In a more serious scenario (medical for instance) I would like to see a higher score."
   ]
  },
  {
   "cell_type": "code",
   "execution_count": 11,
   "id": "3f478250",
   "metadata": {},
   "outputs": [
    {
     "data": {
      "image/png": "[encoded data removed]",
      "text/plain": [
       "<Figure size 432x288 with 2 Axes>"
      ]
     },
     "metadata": {
      "needs_background": "light"
     },
     "output_type": "display_data"
    },
    {
     "data": {
      "image/png": "[encoded data removed]",
      "text/plain": [
       "<Figure size 432x288 with 2 Axes>"
      ]
     },
     "metadata": {
      "needs_background": "light"
     },
     "output_type": "display_data"
    }
   ],
   "source": [
    "#change the target names from the encoding\n",
    "target_names = ['negative', 'positive']\n",
    "\n",
    "titles_options = [(\"Confusion Matrix, Without Normalization\", None),\n",
    "                  (\"Normalized Confusion Matrix\", 'true')]\n",
    "\n",
    "for title, normalize in titles_options:\n",
    "    disp = plot_confusion_matrix(pipeline, X_test, y_test,\n",
    "                                 display_labels= target_names,\n",
    "                                 cmap=plt.cm.Blues,\n",
    "                                 normalize=normalize)\n",
    "    disp.ax_.set_title(title)\n",
    "\n",
    "plt.show()"
   ]
  },
  {
   "cell_type": "code",
   "execution_count": 12,
   "id": "613ddbb4",
   "metadata": {
    "scrolled": true
   },
   "outputs": [
    {
     "name": "stdout",
     "output_type": "stream",
     "text": [
      "              precision    recall  f1-score   support\n",
      "\n",
      "    negative       0.71      0.78      0.74       160\n",
      "    positive       0.75      0.68      0.71       160\n",
      "\n",
      "    accuracy                           0.73       320\n",
      "   macro avg       0.73      0.73      0.73       320\n",
      "weighted avg       0.73      0.73      0.73       320\n",
      "\n"
     ]
    }
   ],
   "source": [
    "#predictions\n",
    "y_pred = pipeline.predict(X_test)\n",
    "\n",
    "print(classification_report(y_test, y_pred, target_names = target_names))"
   ]
  },
  {
   "cell_type": "markdown",
   "id": "ed17e352",
   "metadata": {},
   "source": [
    "### Create the second model using pipeline, grid search CV for the hyperparameters for the estimators from Scikit Learn."
   ]
  },
  {
   "cell_type": "code",
   "execution_count": 13,
   "id": "48522c1a",
   "metadata": {},
   "outputs": [
    {
     "name": "stdout",
     "output_type": "stream",
     "text": [
      "The pipeline contains: ['cleaner', 'vectorizer', 'classifier']\n",
      "\n",
      "parameters are as follows:\n",
      "{'vectorizer__max_df': (0.5, 1.0),\n",
      " 'vectorizer__ngram_range': ((1, 1), (1, 2)),\n",
      " 'vectorizer__use_idf': (True, False)}\n",
      "\n",
      "Fitting 5 folds for each of 8 candidates, totalling 40 fits\n",
      "\n",
      "It takes about 225.4 seconds.\n",
      "\n",
      "Best score = 0.680\n",
      "\n",
      "Best parameters set:\n",
      "\tvectorizer__max_df: 1.0\n",
      "\tvectorizer__ngram_range: (1, 2)\n",
      "\tvectorizer__use_idf: True\n"
     ]
    }
   ],
   "source": [
    "#new pipeline with tokenizer\n",
    "pipeline = Pipeline ([(\"cleaner\", features()),\n",
    "                 (\"vectorizer\", TfidfVectorizer(tokenizer = spacy_tokenizer)),\n",
    "                 (\"classifier\", classifier)])\n",
    "\n",
    "parameters = {\n",
    "    'vectorizer__max_df': (0.5, 1.0),\n",
    "    'vectorizer__ngram_range': ((1, 1), (1,2)),\n",
    "    'vectorizer__use_idf': (True, False),\n",
    "}\n",
    "\n",
    "#gridsearch\n",
    "grid_search = GridSearchCV(pipeline, parameters, n_jobs=-1, verbose=1)\n",
    "\n",
    "print(\"The pipeline contains:\", [name for name, _ in pipeline.steps])\n",
    "print()\n",
    "\n",
    "print(\"parameters are as follows:\")\n",
    "pprint(parameters)\n",
    "print()\n",
    "\n",
    "grid_search.fit(X_train, y_train)\n",
    "print()\n",
    "\n",
    "print(f\"It takes about {time() - t0:.1f} seconds.\")\n",
    "print()\n",
    "\n",
    "print(f\"Best score = {grid_search.best_score_:0.3f}\")\n",
    "print()\n",
    "\n",
    "print(\"Best parameters set:\")\n",
    "best_parameters = grid_search.best_estimator_.get_params()\n",
    "for param_name in sorted(parameters.keys()):\n",
    "    print(\"\\t%s: %r\" % (param_name, best_parameters[param_name]))"
   ]
  },
  {
   "cell_type": "markdown",
   "id": "aa54898b",
   "metadata": {},
   "source": [
    "### Tune the second model and perform model diagnostics. This model is no better than the first one given the 72% accuracy.  It took a lot more time, so I'd recommend sticking with the base model."
   ]
  },
  {
   "cell_type": "code",
   "execution_count": 14,
   "id": "9edcc9b6",
   "metadata": {},
   "outputs": [
    {
     "data": {
      "image/png": "[encoded data removed]",
      "text/plain": [
       "<Figure size 432x288 with 2 Axes>"
      ]
     },
     "metadata": {
      "needs_background": "light"
     },
     "output_type": "display_data"
    },
    {
     "data": {
      "image/png": "[encoded data removed]",
      "text/plain": [
       "<Figure size 432x288 with 2 Axes>"
      ]
     },
     "metadata": {
      "needs_background": "light"
     },
     "output_type": "display_data"
    }
   ],
   "source": [
    "#change the target names from the encoding\n",
    "target_names = ['negative', 'positive']\n",
    "\n",
    "titles_options = [(\"Confusion Matrix, Without Normalization\", None),\n",
    "                  (\"Normalized Confusion Matrix\", 'true')]\n",
    "\n",
    "#confusion matrix\n",
    "for title, normalize in titles_options:\n",
    "    disp = plot_confusion_matrix(grid_search, X_test, y_test,\n",
    "                                 display_labels= target_names,\n",
    "                                 cmap=plt.cm.Blues,\n",
    "                                 normalize=normalize)\n",
    "    disp.ax_.set_title(title)\n",
    "\n",
    "plt.show()"
   ]
  },
  {
   "cell_type": "code",
   "execution_count": 15,
   "id": "a61f6aed",
   "metadata": {},
   "outputs": [
    {
     "name": "stdout",
     "output_type": "stream",
     "text": [
      "              precision    recall  f1-score   support\n",
      "\n",
      "    negative       0.73      0.76      0.75       160\n",
      "    positive       0.75      0.72      0.73       160\n",
      "\n",
      "    accuracy                           0.74       320\n",
      "   macro avg       0.74      0.74      0.74       320\n",
      "weighted avg       0.74      0.74      0.74       320\n",
      "\n"
     ]
    }
   ],
   "source": [
    "#predictions with grid search\n",
    "y_pred = grid_search.predict(X_test)\n",
    "\n",
    "print(classification_report(y_test, y_pred, target_names = target_names))"
   ]
  },
  {
   "cell_type": "markdown",
   "id": "da761096",
   "metadata": {},
   "source": [
    "### Build the third model using pipeline, grid search CV, hyperparameter for the following classifiers:\n",
    "+ Logistic regression\n",
    "+ Support Vector Machine\n",
    "+ Random Forest"
   ]
  },
  {
   "cell_type": "code",
   "execution_count": 16,
   "id": "3652d0c2",
   "metadata": {},
   "outputs": [],
   "source": [
    "#define estimator class for different classifiers\n",
    "class ClfSwitcher(BaseEstimator):\n",
    "    def __init__(\n",
    "        self, \n",
    "        estimator = LogisticRegression(),\n",
    "    ):\n",
    "\n",
    "        self.estimator = estimator\n",
    "\n",
    "    #fit the model\n",
    "    def fit(self, X, y=None, **kwargs):\n",
    "        self.estimator.fit(X, y)\n",
    "        return self\n",
    "\n",
    "    #predict the label\n",
    "    def predict(self, X, y=None):\n",
    "        return self.estimator.predict(X)\n",
    "\n",
    "    #predict the probability\n",
    "    def predict_proba(self, X):\n",
    "        return self.estimator.predict_proba(X)\n",
    "\n",
    "    #compute the score\n",
    "    def score(self, X, y):\n",
    "        return self.estimator.score(X, y)"
   ]
  },
  {
   "cell_type": "code",
   "execution_count": 17,
   "id": "93e2cb27",
   "metadata": {},
   "outputs": [
    {
     "name": "stdout",
     "output_type": "stream",
     "text": [
      "The pipeline contains: ['cleaner', 'vectorizer', 'classifier']\n",
      "\n",
      "parameters are as follows:\n",
      "[{'classifier__estimator': [LogisticRegression(random_state=1)],\n",
      "  'classifier__estimator__fit_intercept': [True, False],\n",
      "  'classifier__estimator__penalty': ('l2', 'l1'),\n",
      "  'vectorizer__max_df': [1.0],\n",
      "  'vectorizer__norm': ('l1', 'l2'),\n",
      "  'vectorizer__stop_words': ['english', None],\n",
      "  'vectorizer__tokenizer': [<function spacy_tokenizer at 0x000002660161AE50>]},\n",
      " {'classifier__estimator': [SVC(random_state=1)],\n",
      "  'classifier__estimator__kernel': ('linear', 'rbf'),\n",
      "  'vectorizer__max_df': [1.0],\n",
      "  'vectorizer__norm': ('l1', 'l2'),\n",
      "  'vectorizer__stop_words': ['english', None],\n",
      "  'vectorizer__tokenizer': [<function spacy_tokenizer at 0x000002660161AE50>]},\n",
      " {'classifier__estimator': [RandomForestClassifier(random_state=1)],\n",
      "  'classifier__estimator__criterion': ('gini', 'entropy'),\n",
      "  'classifier__estimator__n_estimators': [100, 500],\n",
      "  'vectorizer__max_df': [1.0],\n",
      "  'vectorizer__norm': ('l1', 'l2'),\n",
      "  'vectorizer__stop_words': ['english', None],\n",
      "  'vectorizer__tokenizer': [<function spacy_tokenizer at 0x000002660161AE50>]}]\n",
      "\n",
      "Fitting 5 folds for each of 40 candidates, totalling 200 fits\n",
      "\n",
      "It takes about 1305.436 seconds\n"
     ]
    }
   ],
   "source": [
    "#create the pipeline of cleaner, tfidf and classifier to be specified by ClfSwitcher\n",
    "pipeline = Pipeline ([(\"cleaner\", features()),\n",
    "                 (\"vectorizer\", TfidfVectorizer()),\n",
    "                 (\"classifier\", ClfSwitcher())])\n",
    "\n",
    "parameters = [\n",
    "    {\n",
    "        'vectorizer__tokenizer': [spacy_tokenizer],\n",
    "        'vectorizer__max_df': [1.0],\n",
    "        'vectorizer__norm': ('l1', 'l2'),\n",
    "        'vectorizer__stop_words': ['english', None],\n",
    "        'classifier__estimator': [LogisticRegression(random_state=1)], \n",
    "        'classifier__estimator__penalty': ('l2', 'l1'),\n",
    "        'classifier__estimator__fit_intercept': [True, False],\n",
    "    },\n",
    "    {\n",
    "        'vectorizer__tokenizer': [spacy_tokenizer],\n",
    "        'vectorizer__max_df': [1.0],\n",
    "        'vectorizer__norm': ('l1', 'l2'),\n",
    "        'vectorizer__stop_words': ['english', None],\n",
    "        'classifier__estimator': [svm.SVC(random_state=1)],\n",
    "        'classifier__estimator__kernel': ('linear', 'rbf'),\n",
    "    },\n",
    "    {\n",
    "        'vectorizer__tokenizer': [spacy_tokenizer],\n",
    "        'vectorizer__max_df': [1.0],\n",
    "        'vectorizer__norm': ('l1', 'l2'),\n",
    "        'vectorizer__stop_words': ['english', None],\n",
    "        'classifier__estimator': [RandomForestClassifier(random_state=1)],\n",
    "        'classifier__estimator__n_estimators': [100, 500],\n",
    "        'classifier__estimator__criterion': ('gini', 'entropy'),\n",
    "    },\n",
    "]\n",
    "\n",
    "print(\"The pipeline contains:\", [name for name, _ in pipeline.steps])\n",
    "print()\n",
    "\n",
    "print(\"parameters are as follows:\")\n",
    "pprint(parameters)\n",
    "print()\n",
    "\n",
    "#gridsearch CV\n",
    "gscv = GridSearchCV(pipeline, parameters, cv=5, n_jobs= -1, return_train_score=False, verbose=3)\n",
    "gscv.fit(X_train, y_train)\n",
    "print()\n",
    "\n",
    "print(f\"It takes about {time() - t0:.3f} seconds\")"
   ]
  },
  {
   "cell_type": "markdown",
   "id": "ae832c2d",
   "metadata": {},
   "source": [
    "### Tune the third model and perform model diagnostics. The best score on the final model search is a better than the last, but not a meaningful difference."
   ]
  },
  {
   "cell_type": "code",
   "execution_count": 18,
   "id": "cbb98f72",
   "metadata": {},
   "outputs": [
    {
     "name": "stdout",
     "output_type": "stream",
     "text": [
      "Best score= 0.682\n",
      "\n",
      "All potential classifiers:\n",
      "['LogisticRegression(random_state=1)',\n",
      " 'SVC(random_state=1)',\n",
      " 'RandomForestClassifier(random_state=1)']\n",
      "\n",
      "Best parameters set:\n",
      "\tclassifier__estimator: SVC(random_state=1)\n",
      "\tclassifier__estimator__kernel: 'rbf'\n",
      "\tvectorizer__max_df: 1.0\n",
      "\tvectorizer__norm: 'l2'\n",
      "\tvectorizer__stop_words: None\n",
      "\tvectorizer__tokenizer: <function spacy_tokenizer at 0x000002660161AE50>\n"
     ]
    }
   ],
   "source": [
    "print(f\"Best score= {gscv.best_score_:0.3f}\")\n",
    "print()\n",
    "\n",
    "best_parameters = gscv.best_estimator_.get_params()\n",
    "\n",
    "all_classifiers =[]\n",
    "for parameter in parameters:\n",
    "    all_classifiers.append(parameter['classifier__estimator'])\n",
    "all_classifiers = [str(alg) for clf in all_classifiers for alg in clf]\n",
    "print(\"All potential classifiers:\")\n",
    "pprint(all_classifiers)\n",
    "print()\n",
    "\n",
    "#location/index of the optimal classifier\n",
    "idx = all_classifiers.index(str(best_parameters['classifier__estimator']))\n",
    "\n",
    "print(\"Best parameters set:\")\n",
    "for param_name in sorted(parameters[idx].keys()):\n",
    "    print(\"\\t%s: %r\" % (param_name, best_parameters[param_name]))"
   ]
  },
  {
   "cell_type": "code",
   "execution_count": 19,
   "id": "5db15365",
   "metadata": {
    "scrolled": true
   },
   "outputs": [
    {
     "data": {
      "image/png": "[encoded data removed]",
      "text/plain": [
       "<Figure size 432x288 with 2 Axes>"
      ]
     },
     "metadata": {
      "needs_background": "light"
     },
     "output_type": "display_data"
    },
    {
     "data": {
      "image/png": "[encoded data removed]",
      "text/plain": [
       "<Figure size 432x288 with 2 Axes>"
      ]
     },
     "metadata": {
      "needs_background": "light"
     },
     "output_type": "display_data"
    }
   ],
   "source": [
    "y_pred = gscv.predict(X_test)\n",
    "\n",
    "#confusion matrix\n",
    "cm = confusion_matrix(y_test, y_pred)\n",
    "ax = plt.axes()\n",
    "sns.heatmap(cm, annot=True, fmt = 'd', xticklabels = target_names, yticklabels = target_names)\n",
    "ax.set_title(\"Confusion Matrix, Without Normalization\")\n",
    "plt.show()\n",
    "\n",
    "#normalized confusion matrix\n",
    "cm2 = cm / cm.astype(np.float64).sum(axis=1)[:,None]\n",
    "ax = plt.axes()\n",
    "sns.heatmap(cm2, annot=True, fmt = '.2f', xticklabels = target_names, yticklabels = target_names)\n",
    "ax.set_title(\"Normalized confusion matrix\")\n",
    "plt.show()"
   ]
  },
  {
   "cell_type": "code",
   "execution_count": 20,
   "id": "28c1ad88",
   "metadata": {},
   "outputs": [
    {
     "name": "stdout",
     "output_type": "stream",
     "text": [
      "              precision    recall  f1-score   support\n",
      "\n",
      "    negative       0.73      0.76      0.74       160\n",
      "    positive       0.75      0.71      0.73       160\n",
      "\n",
      "    accuracy                           0.74       320\n",
      "   macro avg       0.74      0.74      0.74       320\n",
      "weighted avg       0.74      0.74      0.74       320\n",
      "\n"
     ]
    }
   ],
   "source": [
    "print(classification_report(y_test, y_pred, target_names = target_names))"
   ]
  },
  {
   "cell_type": "markdown",
   "id": "9298d050",
   "metadata": {},
   "source": [
    "Reference links\n",
    "\n",
    "https://scikit-learn.org/stable/modules/generated/sklearn.feature_extraction.text.TfidfVectorizer.html <br>\n",
    "https://scikit-learn.org/stable/auto_examples/model_selection/plot_confusion_matrix.html <br>\n",
    "https://stackoverflow.com/questions/2354329/what-is-the-meaning-of-r <br>\n",
    "https://scikit-learn.org/stable/auto_examples/model_selection/plot_confusion_matrix.html <br>\n",
    "https://machinelearningmastery.com/tour-of-evaluation-metrics-for-imbalanced-classification/ <br>\n",
    "https://stackoverflow.com/questions/48507651/multiple-classification-models-in-a-scikit-pipeline-python <br>\n",
    "https://scikit-learn.org/stable/tutorial/machine_learning_map/index.html <br>\n",
    "https://scikit-learn.org/stable/modules/generated/sklearn.base.BaseEstimator.html <br>\n",
    "https://scikit-learn.org/stable/modules/generated/sklearn.svm.SVC.html <br>\n",
    "https://scikit-learn.org/stable/modules/generated/sklearn.linear_model.LogisticRegression.html <br>\n",
    "https://scikit-learn.org/stable/modules/generated/sklearn.ensemble.RandomForestClassifier.html <br>\n",
    "https://seaborn.pydata.org/generated/seaborn.heatmap.html"
   ]
  }
 ],
 "metadata": {
  "kernelspec": {
   "display_name": "Python 3 (ipykernel)",
   "language": "python",
   "name": "python3"
  },
  "language_info": {
   "codemirror_mode": {
    "name": "ipython",
    "version": 3
   },
   "file_extension": ".py",
   "mimetype": "text/x-python",
   "name": "python",
   "nbconvert_exporter": "python",
   "pygments_lexer": "ipython3",
   "version": "3.9.12"
  }
 },
 "nbformat": 4,
 "nbformat_minor": 5
}
